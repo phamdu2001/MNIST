{
 "cells": [
  {
   "cell_type": "code",
   "execution_count": 1,
   "id": "9aba4356",
   "metadata": {},
   "outputs": [],
   "source": [
    "import numpy as np\n",
    "from tensorflow.keras.models import Sequential\n",
    "from tensorflow.keras.layers import Activation, Dense, Dropout\n",
    "from tensorflow.keras.layers import Conv2D, MaxPooling2D, Flatten\n",
    "from tensorflow.keras.utils import to_categorical, plot_model\n",
    "from tensorflow.keras.datasets import mnist"
   ]
  },
  {
   "cell_type": "code",
   "execution_count": 2,
   "id": "7515656e",
   "metadata": {},
   "outputs": [
    {
     "name": "stdout",
     "output_type": "stream",
     "text": [
      "Downloading data from https://storage.googleapis.com/tensorflow/tf-keras-datasets/mnist.npz\n",
      "11493376/11490434 [==============================] - ETA:  - 3s 0us/step\n"
     ]
    }
   ],
   "source": [
    "(x_train, y_train), (x_test, y_test) = mnist.load_data()"
   ]
  },
  {
   "cell_type": "code",
   "execution_count": 3,
   "id": "7707e710",
   "metadata": {},
   "outputs": [],
   "source": [
    "num_labels = len(np.unique(y_train))"
   ]
  },
  {
   "cell_type": "code",
   "execution_count": 4,
   "id": "3abf446b",
   "metadata": {},
   "outputs": [],
   "source": [
    "y_train = to_categorical(y_train)\n",
    "y_test = to_categorical(y_test)"
   ]
  },
  {
   "cell_type": "code",
   "execution_count": 5,
   "id": "63e74589",
   "metadata": {},
   "outputs": [
    {
     "data": {
      "text/plain": [
       "array([[0., 0., 0., ..., 0., 0., 0.],\n",
       "       [1., 0., 0., ..., 0., 0., 0.],\n",
       "       [0., 0., 0., ..., 0., 0., 0.],\n",
       "       ...,\n",
       "       [0., 0., 0., ..., 0., 0., 0.],\n",
       "       [0., 0., 0., ..., 0., 0., 0.],\n",
       "       [0., 0., 0., ..., 0., 1., 0.]], dtype=float32)"
      ]
     },
     "execution_count": 5,
     "metadata": {},
     "output_type": "execute_result"
    }
   ],
   "source": [
    "y_train"
   ]
  },
  {
   "cell_type": "code",
   "execution_count": 6,
   "id": "9ee2a7f9",
   "metadata": {},
   "outputs": [],
   "source": [
    "image_size = x_train.shape[1]"
   ]
  },
  {
   "cell_type": "code",
   "execution_count": 7,
   "id": "2f8a9153",
   "metadata": {},
   "outputs": [],
   "source": [
    "x_train = np.reshape(x_train, [-1, image_size, image_size, 1])"
   ]
  },
  {
   "cell_type": "code",
   "execution_count": 8,
   "id": "07b97c40",
   "metadata": {},
   "outputs": [],
   "source": [
    "x_test = np.reshape(x_test, [-1, image_size, image_size, 1])"
   ]
  },
  {
   "cell_type": "code",
   "execution_count": 9,
   "id": "3444d944",
   "metadata": {},
   "outputs": [],
   "source": [
    "x_train = x_train.astype('float32')/255\n",
    "x_test = x_test.astype('float32')/255"
   ]
  },
  {
   "cell_type": "code",
   "execution_count": 10,
   "id": "853a0658",
   "metadata": {},
   "outputs": [],
   "source": [
    "input_shape = (image_size, image_size, 1)\n",
    "batch_size = 128\n",
    "kernel_size = 3\n",
    "pool_size = 2\n",
    "filters = 64\n",
    "dropout = 0.2"
   ]
  },
  {
   "cell_type": "code",
   "execution_count": 11,
   "id": "279ac301",
   "metadata": {},
   "outputs": [
    {
     "name": "stdout",
     "output_type": "stream",
     "text": [
      "Model: \"sequential\"\n",
      "_________________________________________________________________\n",
      "Layer (type)                 Output Shape              Param #   \n",
      "=================================================================\n",
      "conv2d (Conv2D)              (None, 26, 26, 64)        640       \n",
      "_________________________________________________________________\n",
      "max_pooling2d (MaxPooling2D) (None, 13, 13, 64)        0         \n",
      "_________________________________________________________________\n",
      "conv2d_1 (Conv2D)            (None, 11, 11, 64)        36928     \n",
      "_________________________________________________________________\n",
      "max_pooling2d_1 (MaxPooling2 (None, 5, 5, 64)          0         \n",
      "_________________________________________________________________\n",
      "conv2d_2 (Conv2D)            (None, 3, 3, 64)          36928     \n",
      "_________________________________________________________________\n",
      "flatten (Flatten)            (None, 576)               0         \n",
      "_________________________________________________________________\n",
      "dropout (Dropout)            (None, 576)               0         \n",
      "_________________________________________________________________\n",
      "dense (Dense)                (None, 10)                5770      \n",
      "_________________________________________________________________\n",
      "activation (Activation)      (None, 10)                0         \n",
      "=================================================================\n",
      "Total params: 80,266\n",
      "Trainable params: 80,266\n",
      "Non-trainable params: 0\n",
      "_________________________________________________________________\n",
      "Failed to import pydot. You must install pydot and graphviz for `pydotprint` to work.\n",
      "Train on 60000 samples\n",
      "Epoch 1/10\n",
      "60000/60000 [==============================] - 10s 161us/sample - loss: 0.2488 - accuracy: 0.9250\n",
      "Epoch 2/10\n",
      "60000/60000 [==============================] - 5s 87us/sample - loss: 0.0653 - accuracy: 0.9797\n",
      "Epoch 3/10\n",
      "60000/60000 [==============================] - 5s 86us/sample - loss: 0.0454 - accuracy: 0.9861\n",
      "Epoch 4/10\n",
      "60000/60000 [==============================] - 5s 86us/sample - loss: 0.0376 - accuracy: 0.9885\n",
      "Epoch 5/10\n",
      "60000/60000 [==============================] - 6s 92us/sample - loss: 0.0318 - accuracy: 0.9900\n",
      "Epoch 6/10\n",
      "60000/60000 [==============================] - 5s 86us/sample - loss: 0.0271 - accuracy: 0.9906\n",
      "Epoch 7/10\n",
      "60000/60000 [==============================] - 5s 86us/sample - loss: 0.0231 - accuracy: 0.9924\n",
      "Epoch 8/10\n",
      "60000/60000 [==============================] - 5s 88us/sample - loss: 0.0206 - accuracy: 0.9932\n",
      "Epoch 9/10\n",
      "60000/60000 [==============================] - 5s 87us/sample - loss: 0.0182 - accuracy: 0.9938\n",
      "Epoch 10/10\n",
      "60000/60000 [==============================] - 5s 88us/sample - loss: 0.0169 - accuracy: 0.9941\n",
      "\n",
      "Test accuracy: 99%\n"
     ]
    }
   ],
   "source": [
    "model = Sequential()\n",
    "model.add(Conv2D(filters = filters, kernel_size = kernel_size, activation = 'relu', input_shape = input_shape))\n",
    "model.add(MaxPooling2D(pool_size))\n",
    "model.add(Conv2D(filters = filters, kernel_size = kernel_size, activation = 'relu', input_shape = input_shape))\n",
    "model.add(MaxPooling2D(pool_size))\n",
    "model.add(Conv2D(filters = filters, kernel_size = kernel_size, activation = 'relu', input_shape = input_shape))\n",
    "model.add(Flatten())\n",
    "\n",
    "model.add(Dropout(dropout))\n",
    "\n",
    "model.add(Dense(num_labels))\n",
    "model.add(Activation('softmax'))\n",
    "model.summary()\n",
    "plot_model(model, to_file = 'cnn-mnist.png', show_shapes = True)\n",
    "\n",
    "model.compile(loss='categorical_crossentropy', optimizer='adam', metrics=['accuracy'])\n",
    "\n",
    "model.fit(x_train, y_train, epochs = 10, batch_size=batch_size)\n",
    "\n",
    "_, acc = model.evaluate(x_test, y_test, batch_size=batch_size, verbose = 0)\n",
    "print(\"\\nTest accuracy: %.lf%%\" % (100.0*acc))"
   ]
  },
  {
   "cell_type": "code",
   "execution_count": 12,
   "id": "b842ee17",
   "metadata": {},
   "outputs": [],
   "source": [
    "model.save('modelcnn.h5')"
   ]
  },
  {
   "cell_type": "code",
   "execution_count": null,
   "id": "26259771",
   "metadata": {},
   "outputs": [],
   "source": []
  }
 ],
 "metadata": {
  "kernelspec": {
   "display_name": "Python 3",
   "language": "python",
   "name": "python3"
  },
  "language_info": {
   "codemirror_mode": {
    "name": "ipython",
    "version": 3
   },
   "file_extension": ".py",
   "mimetype": "text/x-python",
   "name": "python",
   "nbconvert_exporter": "python",
   "pygments_lexer": "ipython3",
   "version": "3.7.10"
  }
 },
 "nbformat": 4,
 "nbformat_minor": 5
}
